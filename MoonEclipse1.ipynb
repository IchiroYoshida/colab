{
  "nbformat": 4,
  "nbformat_minor": 0,
  "metadata": {
    "colab": {
      "provenance": [],
      "authorship_tag": "ABX9TyOcV5MJCrfRQscVkSNxCCz0",
      "include_colab_link": true
    },
    "kernelspec": {
      "name": "python3",
      "display_name": "Python 3"
    },
    "language_info": {
      "name": "python"
    }
  },
  "cells": [
    {
      "cell_type": "markdown",
      "metadata": {
        "id": "view-in-github",
        "colab_type": "text"
      },
      "source": [
        "<a href=\"https://colab.research.google.com/github/IchiroYoshida/colab/blob/master/MoonEclipse1.ipynb\" target=\"_parent\"><img src=\"https://colab.research.google.com/assets/colab-badge.svg\" alt=\"Open In Colab\"/></a>"
      ]
    },
    {
      "cell_type": "code",
      "execution_count": null,
      "metadata": {
        "colab": {
          "base_uri": "https://localhost:8080/"
        },
        "id": "4wmCRr0_xDom",
        "outputId": "43381a73-51cd-4397-b5f1-930cd21211c6"
      },
      "outputs": [
        {
          "output_type": "stream",
          "name": "stdout",
          "text": [
            "Looking in indexes: https://pypi.org/simple, https://us-python.pkg.dev/colab-wheels/public/simple/\n",
            "Collecting skyfield\n",
            "  Downloading skyfield-1.45-py3-none-any.whl (442 kB)\n",
            "\u001b[K     |████████████████████████████████| 442 kB 6.9 MB/s \n",
            "\u001b[?25hRequirement already satisfied: certifi>=2017.4.17 in /usr/local/lib/python3.7/dist-packages (from skyfield) (2022.9.24)\n",
            "Collecting jplephem>=2.13\n",
            "  Downloading jplephem-2.18-py3-none-any.whl (46 kB)\n",
            "\u001b[K     |████████████████████████████████| 46 kB 3.4 MB/s \n",
            "\u001b[?25hCollecting sgp4>=2.2\n",
            "  Downloading sgp4-2.21-cp37-cp37m-manylinux_2_5_x86_64.manylinux1_x86_64.manylinux_2_17_x86_64.manylinux2014_x86_64.whl (228 kB)\n",
            "\u001b[K     |████████████████████████████████| 228 kB 14.8 MB/s \n",
            "\u001b[?25hRequirement already satisfied: numpy in /usr/local/lib/python3.7/dist-packages (from skyfield) (1.21.6)\n",
            "Installing collected packages: sgp4, jplephem, skyfield\n",
            "Successfully installed jplephem-2.18 sgp4-2.21 skyfield-1.45\n"
          ]
        }
      ],
      "source": [
        "!pip install skyfield\n",
        "\n"
      ]
    },
    {
      "cell_type": "markdown",
      "source": [],
      "metadata": {
        "id": "ex3CvzRa59ua"
      }
    },
    {
      "cell_type": "code",
      "source": [
        "!which python\n",
        "\n",
        "\n"
      ],
      "metadata": {
        "id": "1i723-VL5-ed",
        "colab": {
          "base_uri": "https://localhost:8080/"
        },
        "outputId": "723cd639-a241-4421-ea6b-c2abd8f6680d"
      },
      "execution_count": null,
      "outputs": [
        {
          "output_type": "stream",
          "name": "stdout",
          "text": [
            "/usr/local/bin/python\n"
          ]
        }
      ]
    },
    {
      "cell_type": "code",
      "source": [
        "from skyfield.api import load\n",
        "from pytz import timezone\n",
        "import math\n",
        "import numpy as np\n",
        "import matplotlib.pyplot as plt\n",
        "import matplotlib.patches as patches\n",
        "\n",
        "# 初期時刻設定\n",
        "ts = load.timescale()\n",
        "t = ts.utc(2022, 11, 8, 8, 0, range(0, 36000,3000))\n",
        "jst = timezone('Asia/Tokyo')\n",
        "\n",
        "# 太陽・月・地球\n",
        "eph = load('de421.bsp')\n",
        "sun, moon, earth = eph['sun'], eph['moon'], eph['earth']\n",
        "\n",
        "# 太陽・月の位置計算\n",
        "sun_app = earth.at(t).observe(sun).apparent()\n",
        "moon_app = earth.at(t).observe(moon).apparent()\n",
        "\n",
        "separation = math.pi - sun_app.separation_from(moon_app).radians\n",
        "\n",
        "# 地球の影（太陽）\n",
        "sun_ra, sun_dec , sun_distance = sun_app.radec()\n",
        "\n",
        "max_sun_ra = max(sun_ra.radians)\n",
        "\n",
        "if (max_sun_ra >= math.pi):\n",
        "    shadow_ra = sun_ra.radians - math.pi\n",
        "else:\n",
        "    shadow_ra = sun_ra.radians + math.pi\n",
        "    \n",
        "shadow_dec = - sun_dec.radians\n",
        "\n",
        "#　月の位置\n",
        "moon_ra, moon_dec , moon_distance = moon_app.radec()\n",
        "\n",
        "# 太陽・月の見かけの大きさ計算\n",
        "sun_radius = 696000\n",
        "sun_dist = sun_app.distance().km\n",
        "sun_rad = np.arctan2(sun_radius, sun_dist)\n",
        "\n",
        "moon_radius = 1737\n",
        "moon_dist = moon_app.distance().km\n",
        "moon_rad = np.arctan2(moon_radius, moon_dist)\n",
        "\n",
        "# 視差・本影の視半径計算\n",
        "earth_radius = 6378\n",
        "\n",
        "A = earth_radius - moon_dist /sun_dist * (sun_radius - earth_radius)\n",
        "B = moon_dist/sun_dist * (sun_radius + earth_radius) + earth_radius\n",
        "\n",
        "A_rad = np.arctan(A/moon_dist) #Umbra\n",
        "B_rad = np.arctan(B/moon_dist) #Penumbra\n",
        "\n",
        "rr = B_rad + moon_rad\n",
        "\n",
        "X = - (moon_ra.radians - shadow_ra)\n",
        "Y =   (moon_dec.radians - shadow_dec)\n",
        "\n",
        "X=X[np.where(separation < rr)]\n",
        "Y=Y[np.where(separation < rr)]\n",
        "#T=t[np.where(separation < rr)]\n",
        "#print(T[0].utc_strftime())\n",
        "\n",
        "fig, ax = plt.subplots()\n",
        "\n",
        "for i in range(len(X)):\n",
        "    c = patches.Circle(xy=(X[i], Y[i]), radius=moon_rad[i], fc='y', ec='k', zorder = 0)\n",
        "    ax.add_patch(c)\n",
        "\n",
        "shadow1 = patches.Circle(xy=(0, 0), radius = A_rad[0], fc='k',alpha=0.6,zorder = 0)\n",
        "ax.add_patch(shadow1)\n",
        "\n",
        "shadow2 = patches.Circle(xy=(0, 0), radius = B_rad[0], fc='k',alpha=0.3,zorder = 0)\n",
        "ax.add_patch(shadow2)\n",
        "\n",
        "plt.xlim(-0.05,0.05)\n",
        "plt.ylim(-0.05,0.05)\n",
        "\n",
        "#ax.scatter(X,Y)\n",
        "ax.set_aspect('equal')\n",
        "ax.axis('off')\n",
        "\n",
        "plt.show()"
      ],
      "metadata": {
        "id": "G521YHf1xcOm",
        "outputId": "c5194389-5028-437a-d025-e4b1774a8f30",
        "colab": {
          "base_uri": "https://localhost:8080/",
          "height": 265
        }
      },
      "execution_count": null,
      "outputs": [
        {
          "output_type": "stream",
          "name": "stderr",
          "text": [
            "[#################################] 100% de421.bsp\n"
          ]
        },
        {
          "output_type": "display_data",
          "data": {
            "text/plain": [
              "<Figure size 432x288 with 1 Axes>"
            ],
            "image/png": "[encoded data removed]"
          },
          "metadata": {
            "needs_background": "light"
          }
        }
      ]
    }
  ]
}